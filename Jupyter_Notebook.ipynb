{
  "metadata": {
    "kernelspec": {
      "name": "python",
      "display_name": "Pyolite",
      "language": "python"
    },
    "language_info": {
      "codemirror_mode": {
        "name": "python",
        "version": 3
      },
      "file_extension": ".py",
      "mimetype": "text/x-python",
      "name": "python",
      "nbconvert_exporter": "python",
      "pygments_lexer": "ipython3",
      "version": "3.8"
    }
  },
  "nbformat_minor": 4,
  "nbformat": 4,
  "cells": [
    {
      "cell_type": "markdown",
      "source": "<center>\n    <img src=\"https://s3-api.us-geo.objectstorage.softlayer.net/cf-courses-data/CognitiveClass/Logos/organization_logo/organization_logo.png\" width=\"300\" alt=\"cognitiveclass.ai logo\"  />\n</center>\n",
      "metadata": {}
    },
    {
      "cell_type": "markdown",
      "source": "#  My Jupyter Notebook on IBM Watson Studio",
      "metadata": {}
    },
    {
      "cell_type": "markdown",
      "source": "**A.Kasra** \\\nData Scientist",
      "metadata": {
        "tags": []
      }
    },
    {
      "cell_type": "markdown",
      "source": "*What fascinates me about data science is that it enables us to breakdown information about the world and develope insights that help us better understand its complexity* ",
      "metadata": {}
    },
    {
      "cell_type": "markdown",
      "source": "### The following code cell is a function that returns the product of (x) & (y).",
      "metadata": {}
    },
    {
      "cell_type": "code",
      "source": "def multiply(x, y):\n    return x * y",
      "metadata": {
        "trusted": true
      },
      "execution_count": 1,
      "outputs": []
    },
    {
      "cell_type": "markdown",
      "source": "\n+ List1\n+ List2\n+ List3\n\n\n\nwww.ibm.com\n\n| Name | Age | Sex |\n|------|-----|-----|\n| John | 23  | M   |\n| Alex | 42  | M   |\n| Rose | 28  | F   |\n| Mel  | 36  |\n\n\n",
      "metadata": {}
    },
    {
      "cell_type": "code",
      "source": "",
      "metadata": {},
      "execution_count": null,
      "outputs": []
    }
  ]
}